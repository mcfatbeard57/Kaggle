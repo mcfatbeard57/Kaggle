{
 "cells": [
  {
   "cell_type": "markdown",
   "id": "resident-astronomy",
   "metadata": {
    "papermill": {
     "duration": 0.02083,
     "end_time": "2021-06-07T07:45:09.995970",
     "exception": false,
     "start_time": "2021-06-07T07:45:09.975140",
     "status": "completed"
    },
    "tags": []
   },
   "source": [
    "### Imports"
   ]
  },
  {
   "cell_type": "code",
   "execution_count": 1,
   "id": "modern-multimedia",
   "metadata": {
    "execution": {
     "iopub.execute_input": "2021-06-07T07:45:10.046582Z",
     "iopub.status.busy": "2021-06-07T07:45:10.044776Z",
     "iopub.status.idle": "2021-06-07T07:45:10.049892Z",
     "shell.execute_reply": "2021-06-07T07:45:10.049113Z",
     "shell.execute_reply.started": "2021-06-07T07:41:03.887290Z"
    },
    "papermill": {
     "duration": 0.034099,
     "end_time": "2021-06-07T07:45:10.050074",
     "exception": false,
     "start_time": "2021-06-07T07:45:10.015975",
     "status": "completed"
    },
    "tags": []
   },
   "outputs": [],
   "source": [
    "import pandas as pd"
   ]
  },
  {
   "cell_type": "markdown",
   "id": "confused-uganda",
   "metadata": {
    "papermill": {
     "duration": 0.020627,
     "end_time": "2021-06-07T07:45:10.090782",
     "exception": false,
     "start_time": "2021-06-07T07:45:10.070155",
     "status": "completed"
    },
    "tags": []
   },
   "source": [
    "### Pre Process Data"
   ]
  },
  {
   "cell_type": "code",
   "execution_count": 2,
   "id": "velvet-summer",
   "metadata": {
    "execution": {
     "iopub.execute_input": "2021-06-07T07:45:10.134299Z",
     "iopub.status.busy": "2021-06-07T07:45:10.133593Z",
     "iopub.status.idle": "2021-06-07T07:45:10.170845Z",
     "shell.execute_reply": "2021-06-07T07:45:10.169787Z",
     "shell.execute_reply.started": "2021-06-07T07:41:03.924069Z"
    },
    "papermill": {
     "duration": 0.06008,
     "end_time": "2021-06-07T07:45:10.170996",
     "exception": false,
     "start_time": "2021-06-07T07:45:10.110916",
     "status": "completed"
    },
    "tags": []
   },
   "outputs": [],
   "source": [
    "#df =  pd.read_csv('healthcare-dataset-stroke-data.csv')\n",
    "df =  pd.read_csv('/kaggle/input/stroke-prediction-dataset/healthcare-dataset-stroke-data.csv')"
   ]
  },
  {
   "cell_type": "code",
   "execution_count": 3,
   "id": "presidential-venture",
   "metadata": {
    "execution": {
     "iopub.execute_input": "2021-06-07T07:45:10.221794Z",
     "iopub.status.busy": "2021-06-07T07:45:10.221098Z",
     "iopub.status.idle": "2021-06-07T07:45:10.245381Z",
     "shell.execute_reply": "2021-06-07T07:45:10.245869Z",
     "shell.execute_reply.started": "2021-06-07T07:41:03.958873Z"
    },
    "papermill": {
     "duration": 0.054928,
     "end_time": "2021-06-07T07:45:10.246035",
     "exception": false,
     "start_time": "2021-06-07T07:45:10.191107",
     "status": "completed"
    },
    "tags": []
   },
   "outputs": [
    {
     "data": {
      "text/html": [
       "<div>\n",
       "<style scoped>\n",
       "    .dataframe tbody tr th:only-of-type {\n",
       "        vertical-align: middle;\n",
       "    }\n",
       "\n",
       "    .dataframe tbody tr th {\n",
       "        vertical-align: top;\n",
       "    }\n",
       "\n",
       "    .dataframe thead th {\n",
       "        text-align: right;\n",
       "    }\n",
       "</style>\n",
       "<table border=\"1\" class=\"dataframe\">\n",
       "  <thead>\n",
       "    <tr style=\"text-align: right;\">\n",
       "      <th></th>\n",
       "      <th>id</th>\n",
       "      <th>gender</th>\n",
       "      <th>age</th>\n",
       "      <th>hypertension</th>\n",
       "      <th>heart_disease</th>\n",
       "      <th>ever_married</th>\n",
       "      <th>work_type</th>\n",
       "      <th>Residence_type</th>\n",
       "      <th>avg_glucose_level</th>\n",
       "      <th>bmi</th>\n",
       "      <th>smoking_status</th>\n",
       "      <th>stroke</th>\n",
       "    </tr>\n",
       "  </thead>\n",
       "  <tbody>\n",
       "    <tr>\n",
       "      <th>0</th>\n",
       "      <td>9046</td>\n",
       "      <td>Male</td>\n",
       "      <td>67.0</td>\n",
       "      <td>0</td>\n",
       "      <td>1</td>\n",
       "      <td>Yes</td>\n",
       "      <td>Private</td>\n",
       "      <td>Urban</td>\n",
       "      <td>228.69</td>\n",
       "      <td>36.6</td>\n",
       "      <td>formerly smoked</td>\n",
       "      <td>1</td>\n",
       "    </tr>\n",
       "    <tr>\n",
       "      <th>1</th>\n",
       "      <td>51676</td>\n",
       "      <td>Female</td>\n",
       "      <td>61.0</td>\n",
       "      <td>0</td>\n",
       "      <td>0</td>\n",
       "      <td>Yes</td>\n",
       "      <td>Self-employed</td>\n",
       "      <td>Rural</td>\n",
       "      <td>202.21</td>\n",
       "      <td>NaN</td>\n",
       "      <td>never smoked</td>\n",
       "      <td>1</td>\n",
       "    </tr>\n",
       "    <tr>\n",
       "      <th>2</th>\n",
       "      <td>31112</td>\n",
       "      <td>Male</td>\n",
       "      <td>80.0</td>\n",
       "      <td>0</td>\n",
       "      <td>1</td>\n",
       "      <td>Yes</td>\n",
       "      <td>Private</td>\n",
       "      <td>Rural</td>\n",
       "      <td>105.92</td>\n",
       "      <td>32.5</td>\n",
       "      <td>never smoked</td>\n",
       "      <td>1</td>\n",
       "    </tr>\n",
       "    <tr>\n",
       "      <th>3</th>\n",
       "      <td>60182</td>\n",
       "      <td>Female</td>\n",
       "      <td>49.0</td>\n",
       "      <td>0</td>\n",
       "      <td>0</td>\n",
       "      <td>Yes</td>\n",
       "      <td>Private</td>\n",
       "      <td>Urban</td>\n",
       "      <td>171.23</td>\n",
       "      <td>34.4</td>\n",
       "      <td>smokes</td>\n",
       "      <td>1</td>\n",
       "    </tr>\n",
       "    <tr>\n",
       "      <th>4</th>\n",
       "      <td>1665</td>\n",
       "      <td>Female</td>\n",
       "      <td>79.0</td>\n",
       "      <td>1</td>\n",
       "      <td>0</td>\n",
       "      <td>Yes</td>\n",
       "      <td>Self-employed</td>\n",
       "      <td>Rural</td>\n",
       "      <td>174.12</td>\n",
       "      <td>24.0</td>\n",
       "      <td>never smoked</td>\n",
       "      <td>1</td>\n",
       "    </tr>\n",
       "  </tbody>\n",
       "</table>\n",
       "</div>"
      ],
      "text/plain": [
       "      id  gender   age  hypertension  heart_disease ever_married  \\\n",
       "0   9046    Male  67.0             0              1          Yes   \n",
       "1  51676  Female  61.0             0              0          Yes   \n",
       "2  31112    Male  80.0             0              1          Yes   \n",
       "3  60182  Female  49.0             0              0          Yes   \n",
       "4   1665  Female  79.0             1              0          Yes   \n",
       "\n",
       "       work_type Residence_type  avg_glucose_level   bmi   smoking_status  \\\n",
       "0        Private          Urban             228.69  36.6  formerly smoked   \n",
       "1  Self-employed          Rural             202.21   NaN     never smoked   \n",
       "2        Private          Rural             105.92  32.5     never smoked   \n",
       "3        Private          Urban             171.23  34.4           smokes   \n",
       "4  Self-employed          Rural             174.12  24.0     never smoked   \n",
       "\n",
       "   stroke  \n",
       "0       1  \n",
       "1       1  \n",
       "2       1  \n",
       "3       1  \n",
       "4       1  "
      ]
     },
     "execution_count": 3,
     "metadata": {},
     "output_type": "execute_result"
    }
   ],
   "source": [
    "df.head()"
   ]
  },
  {
   "cell_type": "code",
   "execution_count": 4,
   "id": "disturbed-sacramento",
   "metadata": {
    "execution": {
     "iopub.execute_input": "2021-06-07T07:45:10.290769Z",
     "iopub.status.busy": "2021-06-07T07:45:10.290091Z",
     "iopub.status.idle": "2021-06-07T07:45:10.295175Z",
     "shell.execute_reply": "2021-06-07T07:45:10.295779Z",
     "shell.execute_reply.started": "2021-06-07T07:41:03.996406Z"
    },
    "papermill": {
     "duration": 0.028888,
     "end_time": "2021-06-07T07:45:10.295948",
     "exception": false,
     "start_time": "2021-06-07T07:45:10.267060",
     "status": "completed"
    },
    "tags": []
   },
   "outputs": [
    {
     "data": {
      "text/plain": [
       "Index(['id', 'gender', 'age', 'hypertension', 'heart_disease', 'ever_married',\n",
       "       'work_type', 'Residence_type', 'avg_glucose_level', 'bmi',\n",
       "       'smoking_status', 'stroke'],\n",
       "      dtype='object')"
      ]
     },
     "execution_count": 4,
     "metadata": {},
     "output_type": "execute_result"
    }
   ],
   "source": [
    "df.columns"
   ]
  },
  {
   "cell_type": "code",
   "execution_count": 5,
   "id": "moving-trace",
   "metadata": {
    "execution": {
     "iopub.execute_input": "2021-06-07T07:45:10.340695Z",
     "iopub.status.busy": "2021-06-07T07:45:10.339991Z",
     "iopub.status.idle": "2021-06-07T07:45:10.344750Z",
     "shell.execute_reply": "2021-06-07T07:45:10.345247Z",
     "shell.execute_reply.started": "2021-06-07T07:41:04.006123Z"
    },
    "papermill": {
     "duration": 0.028649,
     "end_time": "2021-06-07T07:45:10.345453",
     "exception": false,
     "start_time": "2021-06-07T07:45:10.316804",
     "status": "completed"
    },
    "tags": []
   },
   "outputs": [
    {
     "data": {
      "text/plain": [
       "(5110, 12)"
      ]
     },
     "execution_count": 5,
     "metadata": {},
     "output_type": "execute_result"
    }
   ],
   "source": [
    "df.shape"
   ]
  },
  {
   "cell_type": "code",
   "execution_count": 6,
   "id": "proved-ordering",
   "metadata": {
    "execution": {
     "iopub.execute_input": "2021-06-07T07:45:10.391367Z",
     "iopub.status.busy": "2021-06-07T07:45:10.390709Z",
     "iopub.status.idle": "2021-06-07T07:45:10.417516Z",
     "shell.execute_reply": "2021-06-07T07:45:10.416083Z",
     "shell.execute_reply.started": "2021-06-07T07:41:04.019963Z"
    },
    "papermill": {
     "duration": 0.050991,
     "end_time": "2021-06-07T07:45:10.417735",
     "exception": false,
     "start_time": "2021-06-07T07:45:10.366744",
     "status": "completed"
    },
    "tags": []
   },
   "outputs": [
    {
     "name": "stdout",
     "output_type": "stream",
     "text": [
      "<class 'pandas.core.frame.DataFrame'>\n",
      "RangeIndex: 5110 entries, 0 to 5109\n",
      "Data columns (total 12 columns):\n",
      " #   Column             Non-Null Count  Dtype  \n",
      "---  ------             --------------  -----  \n",
      " 0   id                 5110 non-null   int64  \n",
      " 1   gender             5110 non-null   object \n",
      " 2   age                5110 non-null   float64\n",
      " 3   hypertension       5110 non-null   int64  \n",
      " 4   heart_disease      5110 non-null   int64  \n",
      " 5   ever_married       5110 non-null   object \n",
      " 6   work_type          5110 non-null   object \n",
      " 7   Residence_type     5110 non-null   object \n",
      " 8   avg_glucose_level  5110 non-null   float64\n",
      " 9   bmi                4909 non-null   float64\n",
      " 10  smoking_status     5110 non-null   object \n",
      " 11  stroke             5110 non-null   int64  \n",
      "dtypes: float64(3), int64(4), object(5)\n",
      "memory usage: 479.2+ KB\n"
     ]
    }
   ],
   "source": [
    "df.info()"
   ]
  },
  {
   "cell_type": "code",
   "execution_count": 7,
   "id": "aware-supplier",
   "metadata": {
    "execution": {
     "iopub.execute_input": "2021-06-07T07:45:10.472825Z",
     "iopub.status.busy": "2021-06-07T07:45:10.472105Z",
     "iopub.status.idle": "2021-06-07T07:45:10.721489Z",
     "shell.execute_reply": "2021-06-07T07:45:10.720917Z",
     "shell.execute_reply.started": "2021-06-07T07:41:04.056309Z"
    },
    "papermill": {
     "duration": 0.280718,
     "end_time": "2021-06-07T07:45:10.721639",
     "exception": false,
     "start_time": "2021-06-07T07:45:10.440921",
     "status": "completed"
    },
    "tags": []
   },
   "outputs": [
    {
     "data": {
      "text/plain": [
       "<AxesSubplot:>"
      ]
     },
     "execution_count": 7,
     "metadata": {},
     "output_type": "execute_result"
    },
    {
     "data": {
      "image/png": "[encoded data removed]",
      "text/plain": [
       "<Figure size 432x288 with 1 Axes>"
      ]
     },
     "metadata": {
      "needs_background": "light"
     },
     "output_type": "display_data"
    }
   ],
   "source": [
    "df.isna().sum().plot(kind = 'bar')"
   ]
  },
  {
   "cell_type": "code",
   "execution_count": 8,
   "id": "unlike-accommodation",
   "metadata": {
    "execution": {
     "iopub.execute_input": "2021-06-07T07:45:10.774585Z",
     "iopub.status.busy": "2021-06-07T07:45:10.773862Z",
     "iopub.status.idle": "2021-06-07T07:45:10.808727Z",
     "shell.execute_reply": "2021-06-07T07:45:10.808193Z",
     "shell.execute_reply.started": "2021-06-07T07:41:04.334759Z"
    },
    "papermill": {
     "duration": 0.064322,
     "end_time": "2021-06-07T07:45:10.808869",
     "exception": false,
     "start_time": "2021-06-07T07:45:10.744547",
     "status": "completed"
    },
    "tags": []
   },
   "outputs": [
    {
     "data": {
      "text/html": [
       "<div>\n",
       "<style scoped>\n",
       "    .dataframe tbody tr th:only-of-type {\n",
       "        vertical-align: middle;\n",
       "    }\n",
       "\n",
       "    .dataframe tbody tr th {\n",
       "        vertical-align: top;\n",
       "    }\n",
       "\n",
       "    .dataframe thead th {\n",
       "        text-align: right;\n",
       "    }\n",
       "</style>\n",
       "<table border=\"1\" class=\"dataframe\">\n",
       "  <thead>\n",
       "    <tr style=\"text-align: right;\">\n",
       "      <th></th>\n",
       "      <th>count</th>\n",
       "      <th>mean</th>\n",
       "      <th>std</th>\n",
       "      <th>min</th>\n",
       "      <th>25%</th>\n",
       "      <th>50%</th>\n",
       "      <th>75%</th>\n",
       "      <th>max</th>\n",
       "    </tr>\n",
       "  </thead>\n",
       "  <tbody>\n",
       "    <tr>\n",
       "      <th>id</th>\n",
       "      <td>5110.0</td>\n",
       "      <td>36517.829354</td>\n",
       "      <td>21161.721625</td>\n",
       "      <td>67.00</td>\n",
       "      <td>17741.250</td>\n",
       "      <td>36932.000</td>\n",
       "      <td>54682.00</td>\n",
       "      <td>72940.00</td>\n",
       "    </tr>\n",
       "    <tr>\n",
       "      <th>age</th>\n",
       "      <td>5110.0</td>\n",
       "      <td>43.226614</td>\n",
       "      <td>22.612647</td>\n",
       "      <td>0.08</td>\n",
       "      <td>25.000</td>\n",
       "      <td>45.000</td>\n",
       "      <td>61.00</td>\n",
       "      <td>82.00</td>\n",
       "    </tr>\n",
       "    <tr>\n",
       "      <th>hypertension</th>\n",
       "      <td>5110.0</td>\n",
       "      <td>0.097456</td>\n",
       "      <td>0.296607</td>\n",
       "      <td>0.00</td>\n",
       "      <td>0.000</td>\n",
       "      <td>0.000</td>\n",
       "      <td>0.00</td>\n",
       "      <td>1.00</td>\n",
       "    </tr>\n",
       "    <tr>\n",
       "      <th>heart_disease</th>\n",
       "      <td>5110.0</td>\n",
       "      <td>0.054012</td>\n",
       "      <td>0.226063</td>\n",
       "      <td>0.00</td>\n",
       "      <td>0.000</td>\n",
       "      <td>0.000</td>\n",
       "      <td>0.00</td>\n",
       "      <td>1.00</td>\n",
       "    </tr>\n",
       "    <tr>\n",
       "      <th>avg_glucose_level</th>\n",
       "      <td>5110.0</td>\n",
       "      <td>106.147677</td>\n",
       "      <td>45.283560</td>\n",
       "      <td>55.12</td>\n",
       "      <td>77.245</td>\n",
       "      <td>91.885</td>\n",
       "      <td>114.09</td>\n",
       "      <td>271.74</td>\n",
       "    </tr>\n",
       "    <tr>\n",
       "      <th>bmi</th>\n",
       "      <td>4909.0</td>\n",
       "      <td>28.893237</td>\n",
       "      <td>7.854067</td>\n",
       "      <td>10.30</td>\n",
       "      <td>23.500</td>\n",
       "      <td>28.100</td>\n",
       "      <td>33.10</td>\n",
       "      <td>97.60</td>\n",
       "    </tr>\n",
       "    <tr>\n",
       "      <th>stroke</th>\n",
       "      <td>5110.0</td>\n",
       "      <td>0.048728</td>\n",
       "      <td>0.215320</td>\n",
       "      <td>0.00</td>\n",
       "      <td>0.000</td>\n",
       "      <td>0.000</td>\n",
       "      <td>0.00</td>\n",
       "      <td>1.00</td>\n",
       "    </tr>\n",
       "  </tbody>\n",
       "</table>\n",
       "</div>"
      ],
      "text/plain": [
       "                    count          mean           std    min        25%  \\\n",
       "id                 5110.0  36517.829354  21161.721625  67.00  17741.250   \n",
       "age                5110.0     43.226614     22.612647   0.08     25.000   \n",
       "hypertension       5110.0      0.097456      0.296607   0.00      0.000   \n",
       "heart_disease      5110.0      0.054012      0.226063   0.00      0.000   \n",
       "avg_glucose_level  5110.0    106.147677     45.283560  55.12     77.245   \n",
       "bmi                4909.0     28.893237      7.854067  10.30     23.500   \n",
       "stroke             5110.0      0.048728      0.215320   0.00      0.000   \n",
       "\n",
       "                         50%       75%       max  \n",
       "id                 36932.000  54682.00  72940.00  \n",
       "age                   45.000     61.00     82.00  \n",
       "hypertension           0.000      0.00      1.00  \n",
       "heart_disease          0.000      0.00      1.00  \n",
       "avg_glucose_level     91.885    114.09    271.74  \n",
       "bmi                   28.100     33.10     97.60  \n",
       "stroke                 0.000      0.00      1.00  "
      ]
     },
     "execution_count": 8,
     "metadata": {},
     "output_type": "execute_result"
    }
   ],
   "source": [
    "df.describe().T"
   ]
  },
  {
   "cell_type": "markdown",
   "id": "persistent-johns",
   "metadata": {
    "papermill": {
     "duration": 0.02341,
     "end_time": "2021-06-07T07:45:10.855487",
     "exception": false,
     "start_time": "2021-06-07T07:45:10.832077",
     "status": "completed"
    },
    "tags": []
   },
   "source": [
    "## EDA"
   ]
  },
  {
   "cell_type": "code",
   "execution_count": 9,
   "id": "compact-technique",
   "metadata": {
    "execution": {
     "iopub.execute_input": "2021-06-07T07:45:10.909373Z",
     "iopub.status.busy": "2021-06-07T07:45:10.908447Z",
     "iopub.status.idle": "2021-06-07T07:45:10.911101Z",
     "shell.execute_reply": "2021-06-07T07:45:10.911596Z",
     "shell.execute_reply.started": "2021-06-07T07:41:04.379795Z"
    },
    "papermill": {
     "duration": 0.03289,
     "end_time": "2021-06-07T07:45:10.911763",
     "exception": false,
     "start_time": "2021-06-07T07:45:10.878873",
     "status": "completed"
    },
    "tags": []
   },
   "outputs": [],
   "source": [
    "categorical_columns = df.dtypes[df.dtypes == 'object'].index\n",
    "numerical_columns = df.dtypes[df.dtypes != 'object'].index"
   ]
  },
  {
   "cell_type": "code",
   "execution_count": 10,
   "id": "three-makeup",
   "metadata": {
    "execution": {
     "iopub.execute_input": "2021-06-07T07:45:10.964132Z",
     "iopub.status.busy": "2021-06-07T07:45:10.963198Z",
     "iopub.status.idle": "2021-06-07T07:45:10.967780Z",
     "shell.execute_reply": "2021-06-07T07:45:10.967274Z",
     "shell.execute_reply.started": "2021-06-07T07:41:04.388742Z"
    },
    "papermill": {
     "duration": 0.032907,
     "end_time": "2021-06-07T07:45:10.967920",
     "exception": false,
     "start_time": "2021-06-07T07:45:10.935013",
     "status": "completed"
    },
    "tags": []
   },
   "outputs": [
    {
     "data": {
      "text/plain": [
       "Index(['gender', 'ever_married', 'work_type', 'Residence_type',\n",
       "       'smoking_status'],\n",
       "      dtype='object')"
      ]
     },
     "execution_count": 10,
     "metadata": {},
     "output_type": "execute_result"
    }
   ],
   "source": [
    "categorical_columns"
   ]
  },
  {
   "cell_type": "code",
   "execution_count": 11,
   "id": "stupid-circus",
   "metadata": {
    "execution": {
     "iopub.execute_input": "2021-06-07T07:45:11.023602Z",
     "iopub.status.busy": "2021-06-07T07:45:11.022892Z",
     "iopub.status.idle": "2021-06-07T07:45:11.026487Z",
     "shell.execute_reply": "2021-06-07T07:45:11.025881Z",
     "shell.execute_reply.started": "2021-06-07T07:41:04.402944Z"
    },
    "papermill": {
     "duration": 0.035013,
     "end_time": "2021-06-07T07:45:11.026622",
     "exception": false,
     "start_time": "2021-06-07T07:45:10.991609",
     "status": "completed"
    },
    "tags": []
   },
   "outputs": [
    {
     "data": {
      "text/plain": [
       "Female    2994\n",
       "Male      2115\n",
       "Other        1\n",
       "Name: gender, dtype: int64"
      ]
     },
     "execution_count": 11,
     "metadata": {},
     "output_type": "execute_result"
    }
   ],
   "source": [
    "df['gender'].value_counts()"
   ]
  },
  {
   "cell_type": "code",
   "execution_count": 12,
   "id": "retired-fantasy",
   "metadata": {
    "execution": {
     "iopub.execute_input": "2021-06-07T07:45:11.084125Z",
     "iopub.status.busy": "2021-06-07T07:45:11.083051Z",
     "iopub.status.idle": "2021-06-07T07:45:11.086970Z",
     "shell.execute_reply": "2021-06-07T07:45:11.087439Z",
     "shell.execute_reply.started": "2021-06-07T07:41:04.420467Z"
    },
    "papermill": {
     "duration": 0.036622,
     "end_time": "2021-06-07T07:45:11.087613",
     "exception": false,
     "start_time": "2021-06-07T07:45:11.050991",
     "status": "completed"
    },
    "tags": []
   },
   "outputs": [
    {
     "data": {
      "text/plain": [
       "Private          2925\n",
       "Self-employed     819\n",
       "children          687\n",
       "Govt_job          657\n",
       "Never_worked       22\n",
       "Name: work_type, dtype: int64"
      ]
     },
     "execution_count": 12,
     "metadata": {},
     "output_type": "execute_result"
    }
   ],
   "source": [
    "df['work_type'].value_counts()"
   ]
  },
  {
   "cell_type": "code",
   "execution_count": 13,
   "id": "primary-touch",
   "metadata": {
    "execution": {
     "iopub.execute_input": "2021-06-07T07:45:11.144860Z",
     "iopub.status.busy": "2021-06-07T07:45:11.144048Z",
     "iopub.status.idle": "2021-06-07T07:45:11.148823Z",
     "shell.execute_reply": "2021-06-07T07:45:11.148202Z",
     "shell.execute_reply.started": "2021-06-07T07:41:04.435227Z"
    },
    "papermill": {
     "duration": 0.036417,
     "end_time": "2021-06-07T07:45:11.148965",
     "exception": false,
     "start_time": "2021-06-07T07:45:11.112548",
     "status": "completed"
    },
    "tags": []
   },
   "outputs": [
    {
     "data": {
      "text/plain": [
       "Yes    3353\n",
       "No     1757\n",
       "Name: ever_married, dtype: int64"
      ]
     },
     "execution_count": 13,
     "metadata": {},
     "output_type": "execute_result"
    }
   ],
   "source": [
    "df['ever_married'].value_counts()"
   ]
  },
  {
   "cell_type": "code",
   "execution_count": 14,
   "id": "seven-flower",
   "metadata": {
    "execution": {
     "iopub.execute_input": "2021-06-07T07:45:11.206548Z",
     "iopub.status.busy": "2021-06-07T07:45:11.205833Z",
     "iopub.status.idle": "2021-06-07T07:45:11.210697Z",
     "shell.execute_reply": "2021-06-07T07:45:11.210191Z",
     "shell.execute_reply.started": "2021-06-07T07:41:04.452271Z"
    },
    "papermill": {
     "duration": 0.037078,
     "end_time": "2021-06-07T07:45:11.210835",
     "exception": false,
     "start_time": "2021-06-07T07:45:11.173757",
     "status": "completed"
    },
    "tags": []
   },
   "outputs": [
    {
     "data": {
      "text/plain": [
       "Urban    2596\n",
       "Rural    2514\n",
       "Name: Residence_type, dtype: int64"
      ]
     },
     "execution_count": 14,
     "metadata": {},
     "output_type": "execute_result"
    }
   ],
   "source": [
    "df['Residence_type'].value_counts()"
   ]
  },
  {
   "cell_type": "code",
   "execution_count": 15,
   "id": "spiritual-singer",
   "metadata": {
    "execution": {
     "iopub.execute_input": "2021-06-07T07:45:11.270915Z",
     "iopub.status.busy": "2021-06-07T07:45:11.270144Z",
     "iopub.status.idle": "2021-06-07T07:45:11.274091Z",
     "shell.execute_reply": "2021-06-07T07:45:11.273408Z",
     "shell.execute_reply.started": "2021-06-07T07:41:04.467184Z"
    },
    "papermill": {
     "duration": 0.0375,
     "end_time": "2021-06-07T07:45:11.274231",
     "exception": false,
     "start_time": "2021-06-07T07:45:11.236731",
     "status": "completed"
    },
    "tags": []
   },
   "outputs": [
    {
     "data": {
      "text/plain": [
       "never smoked       1892\n",
       "Unknown            1544\n",
       "formerly smoked     885\n",
       "smokes              789\n",
       "Name: smoking_status, dtype: int64"
      ]
     },
     "execution_count": 15,
     "metadata": {},
     "output_type": "execute_result"
    }
   ],
   "source": [
    "df['smoking_status'].value_counts()"
   ]
  },
  {
   "cell_type": "code",
   "execution_count": 16,
   "id": "suffering-house",
   "metadata": {
    "execution": {
     "iopub.execute_input": "2021-06-07T07:45:11.331190Z",
     "iopub.status.busy": "2021-06-07T07:45:11.330381Z",
     "iopub.status.idle": "2021-06-07T07:45:11.334251Z",
     "shell.execute_reply": "2021-06-07T07:45:11.333644Z",
     "shell.execute_reply.started": "2021-06-07T07:41:35.021495Z"
    },
    "papermill": {
     "duration": 0.034431,
     "end_time": "2021-06-07T07:45:11.334406",
     "exception": false,
     "start_time": "2021-06-07T07:45:11.299975",
     "status": "completed"
    },
    "tags": []
   },
   "outputs": [
    {
     "data": {
      "text/plain": [
       "Index(['id', 'age', 'hypertension', 'heart_disease', 'avg_glucose_level',\n",
       "       'bmi', 'stroke'],\n",
       "      dtype='object')"
      ]
     },
     "execution_count": 16,
     "metadata": {},
     "output_type": "execute_result"
    }
   ],
   "source": [
    "numerical_columns"
   ]
  },
  {
   "cell_type": "code",
   "execution_count": 17,
   "id": "separate-horror",
   "metadata": {
    "execution": {
     "iopub.execute_input": "2021-06-07T07:45:11.413227Z",
     "iopub.status.busy": "2021-06-07T07:45:11.406044Z",
     "iopub.status.idle": "2021-06-07T07:45:11.573983Z",
     "shell.execute_reply": "2021-06-07T07:45:11.573139Z",
     "shell.execute_reply.started": "2021-06-07T07:41:52.341784Z"
    },
    "papermill": {
     "duration": 0.21394,
     "end_time": "2021-06-07T07:45:11.574184",
     "exception": false,
     "start_time": "2021-06-07T07:45:11.360244",
     "status": "completed"
    },
    "tags": []
   },
   "outputs": [
    {
     "data": {
      "text/plain": [
       "<AxesSubplot:>"
      ]
     },
     "execution_count": 17,
     "metadata": {},
     "output_type": "execute_result"
    },
    {
     "data": {
      "image/png": "[encoded data removed]",
      "text/plain": [
       "<Figure size 432x288 with 1 Axes>"
      ]
     },
     "metadata": {
      "needs_background": "light"
     },
     "output_type": "display_data"
    }
   ],
   "source": [
    "df['age'].hist()"
   ]
  },
  {
   "cell_type": "code",
   "execution_count": 18,
   "id": "pursuant-zimbabwe",
   "metadata": {
    "execution": {
     "iopub.execute_input": "2021-06-07T07:45:11.655199Z",
     "iopub.status.busy": "2021-06-07T07:45:11.654140Z",
     "iopub.status.idle": "2021-06-07T07:45:11.800528Z",
     "shell.execute_reply": "2021-06-07T07:45:11.799997Z",
     "shell.execute_reply.started": "2021-06-07T07:42:02.782610Z"
    },
    "papermill": {
     "duration": 0.19423,
     "end_time": "2021-06-07T07:45:11.800671",
     "exception": false,
     "start_time": "2021-06-07T07:45:11.606441",
     "status": "completed"
    },
    "tags": []
   },
   "outputs": [
    {
     "data": {
      "text/plain": [
       "<AxesSubplot:>"
      ]
     },
     "execution_count": 18,
     "metadata": {},
     "output_type": "execute_result"
    },
    {
     "data": {
      "image/png": "[encoded data removed]",
      "text/plain": [
       "<Figure size 432x288 with 1 Axes>"
      ]
     },
     "metadata": {
      "needs_background": "light"
     },
     "output_type": "display_data"
    }
   ],
   "source": [
    "df['bmi'].hist()"
   ]
  },
  {
   "cell_type": "code",
   "execution_count": 19,
   "id": "final-ecology",
   "metadata": {
    "execution": {
     "iopub.execute_input": "2021-06-07T07:45:11.862614Z",
     "iopub.status.busy": "2021-06-07T07:45:11.861969Z",
     "iopub.status.idle": "2021-06-07T07:45:11.865619Z",
     "shell.execute_reply": "2021-06-07T07:45:11.864994Z",
     "shell.execute_reply.started": "2021-06-07T07:42:50.050207Z"
    },
    "papermill": {
     "duration": 0.037597,
     "end_time": "2021-06-07T07:45:11.865764",
     "exception": false,
     "start_time": "2021-06-07T07:45:11.828167",
     "status": "completed"
    },
    "tags": []
   },
   "outputs": [
    {
     "data": {
      "text/plain": [
       "0    4834\n",
       "1     276\n",
       "Name: heart_disease, dtype: int64"
      ]
     },
     "execution_count": 19,
     "metadata": {},
     "output_type": "execute_result"
    }
   ],
   "source": [
    "df['heart_disease'].value_counts()"
   ]
  },
  {
   "cell_type": "code",
   "execution_count": 20,
   "id": "heavy-consideration",
   "metadata": {
    "execution": {
     "iopub.execute_input": "2021-06-07T07:45:11.925713Z",
     "iopub.status.busy": "2021-06-07T07:45:11.925032Z",
     "iopub.status.idle": "2021-06-07T07:45:12.079316Z",
     "shell.execute_reply": "2021-06-07T07:45:12.079881Z",
     "shell.execute_reply.started": "2021-06-07T07:43:13.144866Z"
    },
    "papermill": {
     "duration": 0.186207,
     "end_time": "2021-06-07T07:45:12.080062",
     "exception": false,
     "start_time": "2021-06-07T07:45:11.893855",
     "status": "completed"
    },
    "tags": []
   },
   "outputs": [
    {
     "data": {
      "text/plain": [
       "<AxesSubplot:>"
      ]
     },
     "execution_count": 20,
     "metadata": {},
     "output_type": "execute_result"
    },
    {
     "data": {
      "image/png": "[encoded data removed]",
      "text/plain": [
       "<Figure size 432x288 with 1 Axes>"
      ]
     },
     "metadata": {
      "needs_background": "light"
     },
     "output_type": "display_data"
    }
   ],
   "source": [
    "df['avg_glucose_level'].hist()"
   ]
  },
  {
   "cell_type": "code",
   "execution_count": 21,
   "id": "preceding-twins",
   "metadata": {
    "execution": {
     "iopub.execute_input": "2021-06-07T07:45:12.141521Z",
     "iopub.status.busy": "2021-06-07T07:45:12.140845Z",
     "iopub.status.idle": "2021-06-07T07:45:12.147153Z",
     "shell.execute_reply": "2021-06-07T07:45:12.147676Z",
     "shell.execute_reply.started": "2021-06-07T07:43:48.878151Z"
    },
    "papermill": {
     "duration": 0.038451,
     "end_time": "2021-06-07T07:45:12.147843",
     "exception": false,
     "start_time": "2021-06-07T07:45:12.109392",
     "status": "completed"
    },
    "tags": []
   },
   "outputs": [
    {
     "data": {
      "text/plain": [
       "0    4612\n",
       "1     498\n",
       "Name: hypertension, dtype: int64"
      ]
     },
     "execution_count": 21,
     "metadata": {},
     "output_type": "execute_result"
    }
   ],
   "source": [
    "df['hypertension'].value_counts()"
   ]
  },
  {
   "cell_type": "code",
   "execution_count": 22,
   "id": "british-vatican",
   "metadata": {
    "execution": {
     "iopub.execute_input": "2021-06-07T07:45:12.210004Z",
     "iopub.status.busy": "2021-06-07T07:45:12.209285Z",
     "iopub.status.idle": "2021-06-07T07:45:12.215621Z",
     "shell.execute_reply": "2021-06-07T07:45:12.216115Z",
     "shell.execute_reply.started": "2021-06-07T07:44:00.600210Z"
    },
    "papermill": {
     "duration": 0.039083,
     "end_time": "2021-06-07T07:45:12.216283",
     "exception": false,
     "start_time": "2021-06-07T07:45:12.177200",
     "status": "completed"
    },
    "tags": []
   },
   "outputs": [
    {
     "data": {
      "text/plain": [
       "0    4861\n",
       "1     249\n",
       "Name: stroke, dtype: int64"
      ]
     },
     "execution_count": 22,
     "metadata": {},
     "output_type": "execute_result"
    }
   ],
   "source": [
    "df['stroke'].value_counts()"
   ]
  },
  {
   "cell_type": "code",
   "execution_count": null,
   "id": "hispanic-planner",
   "metadata": {
    "papermill": {
     "duration": 0.02933,
     "end_time": "2021-06-07T07:45:12.275304",
     "exception": false,
     "start_time": "2021-06-07T07:45:12.245974",
     "status": "completed"
    },
    "tags": []
   },
   "outputs": [],
   "source": []
  }
 ],
 "metadata": {
  "kernelspec": {
   "display_name": "Python 3",
   "language": "python",
   "name": "python3"
  },
  "language_info": {
   "codemirror_mode": {
    "name": "ipython",
    "version": 3
   },
   "file_extension": ".py",
   "mimetype": "text/x-python",
   "name": "python",
   "nbconvert_exporter": "python",
   "pygments_lexer": "ipython3",
   "version": "3.7.10"
  },
  "papermill": {
   "default_parameters": {},
   "duration": 11.902589,
   "end_time": "2021-06-07T07:45:13.520917",
   "environment_variables": {},
   "exception": null,
   "input_path": "__notebook__.ipynb",
   "output_path": "__notebook__.ipynb",
   "parameters": {},
   "start_time": "2021-06-07T07:45:01.618328",
   "version": "2.3.3"
  }
 },
 "nbformat": 4,
 "nbformat_minor": 5
}
